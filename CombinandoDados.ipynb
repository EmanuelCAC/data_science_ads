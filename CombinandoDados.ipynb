{
  "nbformat": 4,
  "nbformat_minor": 0,
  "metadata": {
    "colab": {
      "provenance": [],
      "authorship_tag": "ABX9TyMC2JJEZlX+TVRJNOFuINFe",
      "include_colab_link": true
    },
    "kernelspec": {
      "name": "python3",
      "display_name": "Python 3"
    },
    "language_info": {
      "name": "python"
    }
  },
  "cells": [
    {
      "cell_type": "markdown",
      "metadata": {
        "id": "view-in-github",
        "colab_type": "text"
      },
      "source": [
        "<a href=\"https://colab.research.google.com/github/EmanuelCAC/data_science_ads/blob/main/CombinandoDados.ipynb\" target=\"_parent\"><img src=\"https://colab.research.google.com/assets/colab-badge.svg\" alt=\"Open In Colab\"/></a>"
      ]
    },
    {
      "cell_type": "code",
      "execution_count": 8,
      "metadata": {
        "colab": {
          "base_uri": "https://localhost:8080/"
        },
        "id": "GYeW42d0zsch",
        "outputId": "612d3888-e67f-4cb9-ad5e-c634ec1258e5"
      },
      "outputs": [
        {
          "output_type": "stream",
          "name": "stdout",
          "text": [
            "  loja  dia  valor\n",
            "0    A  sex   7500\n",
            "1    A  sab   9500\n",
            "2    A  dom   8200\n",
            "3    B  sex   5100\n",
            "4    B  sab   8250\n",
            "5    B  dom   9900\n",
            "6    C  sab   7500\n",
            "7    C  dom  15800\n"
          ]
        }
      ],
      "source": [
        "import pandas as pd\n",
        "\n",
        "lojaA = pd.DataFrame({\"loja\": [\"A\",\"A\",\"A\"],\n",
        "                      \"dia\": [\"sex\", \"sab\", \"dom\"],\n",
        "                      \"valor\": [7500, 9500, 8200]}\n",
        "                     )\n",
        "\n",
        "lojasB = pd.DataFrame({\"loja\": [\"B\",\"B\",\"B\"],\n",
        "                      \"dia\": [\"sex\", \"sab\", \"dom\"],\n",
        "                      \"valor\": [5100, 8250, 9900]}\n",
        "                     )\n",
        "\n",
        "lojasC = pd.DataFrame({\"loja\": [\"C\",\"C\"],\n",
        "                      \"dia\": [\"sab\", \"dom\"],\n",
        "                      \"valor\": [7500, 15800]}\n",
        "                     )\n",
        "\n",
        "lojaABC = pd.concat([lojaA, lojasB, lojasC], ignore_index=True)\n",
        "print(lojaABC)"
      ]
    },
    {
      "cell_type": "code",
      "source": [
        "import pandas as pd\n",
        "\n",
        "d1 = pd.DataFrame({\"carro\": [\"Hyundai\", \"Renault\", \"Fiat\"]})\n",
        "d2 = pd.DataFrame({\"animal\": [\"Capivara\", \"Bem-ti-vi\"]})\n",
        "\n",
        "d3 = pd.concat([d1, d2], ignore_index=True, sort=False)\n",
        "print(d3)"
      ],
      "metadata": {
        "colab": {
          "base_uri": "https://localhost:8080/"
        },
        "id": "2-0iOaaP1Y4G",
        "outputId": "da48b5d5-9cc9-475e-bd4d-f0993f4e97e7"
      },
      "execution_count": 9,
      "outputs": [
        {
          "output_type": "stream",
          "name": "stdout",
          "text": [
            "     carro     animal\n",
            "0  Hyundai        NaN\n",
            "1  Renault        NaN\n",
            "2     Fiat        NaN\n",
            "3      NaN   Capivara\n",
            "4      NaN  Bem-ti-vi\n"
          ]
        }
      ]
    },
    {
      "cell_type": "code",
      "source": [
        "import pandas as pd\n",
        "\n",
        "df_sql = pd.DataFrame({\"email\": [\"elza.=_peixoto@astconsult.com.br\",\n",
        "                                 \"carlos_pires@piscinasegura.com.br\"]})\n",
        "\n",
        "df_python = pd.DataFrame({\"email\": [\"elza.=_peixoto@astconsult.com.br\",\n",
        "                                    \"roberto_moreiraWgruporeis.net\",\n",
        "                                    \"alice.nicole.barbosa@bb.com.br\"]})\n",
        "\n",
        "# União (relação de emails distintos)\n",
        "alunos = pd.concat([df_sql, df_python], ignore_index=True)\n",
        "alunos = alunos.drop_duplicates()\n",
        "\n",
        "# Interseção (quem fez ambos os cursos)\n",
        "sql_e_python = df_sql.merge(df_python)\n",
        "\n",
        "# Diferença (quem fez só SQL e fez só Python)\n",
        "so_sql = df_sql[df_sql.email.isin(df_python.email) == False]\n",
        "so_python = df_python[df_python.email.isin(df_sql.email) == False]\n",
        "\n",
        "print(\"\\nAlunos Distintos:\\n\", alunos)\n",
        "print(\"\\nAlunos que fizeram SQL e Python:\\n\", sql_e_python)\n",
        "print(\"\\nAlunos que fizeram apenas SQL:\\n\", so_sql)\n",
        "print(\"\\nAlunos que fizeram apenas Python:\\n\", so_python)"
      ],
      "metadata": {
        "colab": {
          "base_uri": "https://localhost:8080/"
        },
        "id": "yGBWi23e2Psb",
        "outputId": "d8b12fcc-cce3-4d45-c7bc-665459823dbe"
      },
      "execution_count": 13,
      "outputs": [
        {
          "output_type": "stream",
          "name": "stdout",
          "text": [
            "\n",
            "Alunos Distintos:\n",
            "                                email\n",
            "0   elza.=_peixoto@astconsult.com.br\n",
            "1  carlos_pires@piscinasegura.com.br\n",
            "3      roberto_moreiraWgruporeis.net\n",
            "4     alice.nicole.barbosa@bb.com.br\n",
            "\n",
            "Alunos que fizeram SQL e Python:\n",
            "                               email\n",
            "0  elza.=_peixoto@astconsult.com.br\n",
            "\n",
            "Alunos que fizeram apenas SQL:\n",
            "                                email\n",
            "1  carlos_pires@piscinasegura.com.br\n",
            "\n",
            "Alunos que fizeram apenas Python:\n",
            "                             email\n",
            "1   roberto_moreiraWgruporeis.net\n",
            "2  alice.nicole.barbosa@bb.com.br\n"
          ]
        }
      ]
    },
    {
      "cell_type": "code",
      "source": [
        "import pandas as pd\n",
        "from google.colab import drive\n",
        "drive.mount('/content/drive')"
      ],
      "metadata": {
        "colab": {
          "base_uri": "https://localhost:8080/"
        },
        "id": "B8waLb_gK60O",
        "outputId": "30944d24-0c64-4f08-9ac8-0efcbceaf12b"
      },
      "execution_count": 16,
      "outputs": [
        {
          "output_type": "stream",
          "name": "stdout",
          "text": [
            "Drive already mounted at /content/drive; to attempt to forcibly remount, call drive.mount(\"/content/drive\", force_remount=True).\n"
          ]
        }
      ]
    },
    {
      "cell_type": "code",
      "source": [
        "# Importação de dados\n",
        "flags = pd.read_csv('/content/drive/MyDrive/Faculdade/6Semestre/CienciadeDados/MaterialApoio/flags.csv')\n",
        "countries = pd.read_csv('/content/drive/MyDrive/Faculdade/6Semestre/CienciadeDados/MaterialApoio/countries.csv')\n",
        "\n",
        "num_linhas_flags = flags.shape[0]\n",
        "num_linhas_countries = countries.shape[0]\n",
        "\n",
        "# Junção interna: paises comuns a ambas as bases\n",
        "ambas = pd.merge(flags, countries, how=\"left\", left_on=\"name\", right_on=\"country\")\n",
        "num_linhas_ambas = ambas.shape[0]\n",
        "\n",
        "# Left Join: paises apenas em flags\n",
        "so_flags = pd.merge(flags, countries, how=\"left\", left_on=\"name\", right_on=\"country\")\n",
        "so_flags = so_flags[pd.isnull(so_flags['country'])==True]\n",
        "num_linhas_so_flags = so_flags.shape[0]\n",
        "\n",
        "# Right Join: paises apenas em countries\n",
        "so_countries = pd.merge(flags, countries, how=\"right\", left_on=\"name\", right_on=\"country\")\n",
        "so_countries = so_countries[pd.isnull(so_countries['name'])==True]\n",
        "num_linhas_so_countries = so_countries.shape[0]\n",
        "\n",
        "print(\"Numero de países em 'flags': \", num_linhas_flags)\n",
        "print(\"Numero de países em 'countries': \", num_linhas_countries)\n",
        "print(\"Numero de países comuns a ambas as bases: \", num_linhas_ambas)\n",
        "print(\"Numero de países apenas em 'flags': \", num_linhas_so_flags)\n",
        "print(\"Numero de países apenas em 'countries': \", num_linhas_so_countries)"
      ],
      "metadata": {
        "colab": {
          "base_uri": "https://localhost:8080/"
        },
        "id": "7oY-tvLnONOw",
        "outputId": "a7b43648-47d3-4cf0-c023-1ab87fea3b07"
      },
      "execution_count": 19,
      "outputs": [
        {
          "output_type": "stream",
          "name": "stdout",
          "text": [
            "Numero de países em 'flags':  194\n",
            "Numero de países em 'countries':  227\n",
            "Numero de países comuns a ambas as bases:  194\n",
            "Numero de países apenas em 'flags':  17\n",
            "Numero de países apenas em 'countries':  50\n"
          ]
        }
      ]
    }
  ]
}