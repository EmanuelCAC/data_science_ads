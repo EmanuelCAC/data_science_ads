{
  "nbformat": 4,
  "nbformat_minor": 0,
  "metadata": {
    "colab": {
      "provenance": [],
      "authorship_tag": "ABX9TyPV7v1DFASveFWagA13X/hc",
      "include_colab_link": true
    },
    "kernelspec": {
      "name": "python3",
      "display_name": "Python 3"
    },
    "language_info": {
      "name": "python"
    }
  },
  "cells": [
    {
      "cell_type": "markdown",
      "metadata": {
        "id": "view-in-github",
        "colab_type": "text"
      },
      "source": [
        "<a href=\"https://colab.research.google.com/github/EmanuelCAC/data_science_ads/blob/main/machine_learning.ipynb\" target=\"_parent\"><img src=\"https://colab.research.google.com/assets/colab-badge.svg\" alt=\"Open In Colab\"/></a>"
      ]
    },
    {
      "cell_type": "code",
      "execution_count": 1,
      "metadata": {
        "colab": {
          "base_uri": "https://localhost:8080/"
        },
        "id": "Q0uGEGW_Pszu",
        "outputId": "fa0a5b6c-4cd7-4b9e-e6bb-5810c29133c4"
      },
      "outputs": [
        {
          "output_type": "stream",
          "name": "stdout",
          "text": [
            "Mounted at /content/drive\n"
          ]
        }
      ],
      "source": [
        "from sklearn.neighbors import KNeighborsClassifier\n",
        "import pandas as pd\n",
        "from google.colab import drive\n",
        "drive.mount('/content/drive')\n",
        "flags = pd.read_csv('/content/drive/MyDrive/Faculdade/6Semestre/CienciadeDados/MaterialApoio/flags_transformado.csv')\n"
      ]
    },
    {
      "cell_type": "code",
      "source": [
        "#----------------------------------------------------\n",
        "# Configurar os parâmetros e variáveis auxíliares\n",
        "#----------------------------------------------------\n",
        "\n",
        "# valor de k a ser usado no k-NN\n",
        "k = 3\n",
        "\n",
        "# Nomes dos labels (rótulos de classes)\n",
        "labels = ['red', 'green', 'blue', 'gold', 'white', 'black', 'orange']\n",
        "\n",
        "# Número de labels (7)\n",
        "q = len(labels)\n",
        "\n",
        "# Número de registros da base de treinamento (=194)\n",
        "N = flags.shape[0]\n",
        "\n",
        "#----------------------------------------------------\n",
        "# Cria um Classificador com o algoritimo k-NN\n",
        "# e faz a estimativa do desempenho preditivo\n",
        "# com o método LOO (Leave-One-Out)\n",
        "#----------------------------------------------------\n",
        "\n",
        "# for j: laço que percorre cada rótulo de classe\n",
        "for j in range(0,q):\n",
        "  print('--------------------------------')\n",
        "  print('Processando o Rótulo ', labels[j])\n",
        "  # Instancia uma matriz de confusão para o rótulo j\n",
        "  mc = pd.DataFrame({'predito_nao': [0,0],\n",
        "                     'predito_sim': [0,0]},\n",
        "                    index=['real_nao','real_sim']) # Changed set to list for index\n",
        "\n",
        "  #----------------------------------------------------\n",
        "  # Divide a base de treinamento verticalmente\n",
        "  # em dua partes: X (atributos preditivos) e\n",
        "  # Y (atributo classe)\n",
        "  #----------------------------------------------------\n",
        "  X = flags.drop(columns=labels) # Corrected 'colums' to 'columns'\n",
        "  Y = flags[labels[j]]\n",
        "\n",
        "  #for i: laço que realiza o LOO para o rótulo j\n",
        "  for i in range(0,N):\n",
        "    # cria conjunto de treinamento\n",
        "    X_treino = X.drop([i])\n",
        "    Y_treino = Y.drop([i])\n",
        "\n",
        "    # cria conjunto de teste\n",
        "    X_test = X.iloc[[i],:]\n",
        "    Y_test = Y.iloc[[i]]\n",
        "\n",
        "    #Treinamento do modelo k-NN com os dados do treino\n",
        "    modelo = KNeighborsClassifier(n_neighbors=k)\n",
        "    modelo.fit(X_treino, Y_treino)\n",
        "\n",
        "    # Teste do modelo k-NN com o objeto de teste\n",
        "    pred = modelo.predict(X_test)[0]\n",
        "\n",
        "    # Atualiza a matriz de confusão\n",
        "    if (Y_test.iloc[0] == 0):\n",
        "      if (pred == 0):\n",
        "        mc.loc['real_nao', 'predito_nao'] += 1\n",
        "      if (pred == 1):\n",
        "        mc.loc['real_nao', 'predito_sim'] += 1\n",
        "    else:\n",
        "      if (pred == 0):\n",
        "        mc.loc['real_sim', 'predito_nao'] += 1\n",
        "      if (pred == 1):\n",
        "        mc.loc['real_sim', 'predito_sim'] += 1\n",
        "\n",
        "  # Fim do LOO para o rótulo j:\n",
        "  # imprimir a matriz de confusao e acurácia\n",
        "  print(mc)\n",
        "  acuracia = (mc.loc['real_nao', 'predito_nao'] + mc.loc['real_sim', 'predito_sim']) / N\n",
        "  print('Acurácia: ', round(acuracia,2)*100, '%')\n",
        "  print()"
      ],
      "metadata": {
        "colab": {
          "base_uri": "https://localhost:8080/"
        },
        "id": "z6DG-WRzQUrY",
        "outputId": "7107c250-273f-42ec-c33e-d94216d3e8d0"
      },
      "execution_count": 14,
      "outputs": [
        {
          "output_type": "stream",
          "name": "stdout",
          "text": [
            "--------------------------------\n",
            "Processando o Rótulo  red\n",
            "          predito_nao  predito_sim\n",
            "real_nao           20           21\n",
            "real_sim           22          131\n",
            "Acurácia:  78.0 %\n",
            "\n",
            "--------------------------------\n",
            "Processando o Rótulo  green\n",
            "          predito_nao  predito_sim\n",
            "real_nao           88           15\n",
            "real_sim           17           74\n",
            "Acurácia:  84.0 %\n",
            "\n",
            "--------------------------------\n",
            "Processando o Rótulo  blue\n",
            "          predito_nao  predito_sim\n",
            "real_nao           64           31\n",
            "real_sim           28           71\n",
            "Acurácia:  70.0 %\n",
            "\n",
            "--------------------------------\n",
            "Processando o Rótulo  gold\n",
            "          predito_nao  predito_sim\n",
            "real_nao           81           22\n",
            "real_sim           37           54\n",
            "Acurácia:  70.0 %\n",
            "\n",
            "--------------------------------\n",
            "Processando o Rótulo  white\n",
            "          predito_nao  predito_sim\n",
            "real_nao           18           30\n",
            "real_sim           24          122\n",
            "Acurácia:  72.0 %\n",
            "\n",
            "--------------------------------\n",
            "Processando o Rótulo  black\n",
            "          predito_nao  predito_sim\n",
            "real_nao          125           17\n",
            "real_sim           28           24\n",
            "Acurácia:  77.0 %\n",
            "\n",
            "--------------------------------\n",
            "Processando o Rótulo  orange\n",
            "          predito_nao  predito_sim\n",
            "real_nao          163            5\n",
            "real_sim           20            6\n",
            "Acurácia:  87.0 %\n",
            "\n"
          ]
        }
      ]
    }
  ]
}