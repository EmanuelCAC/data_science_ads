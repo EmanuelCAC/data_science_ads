{
  "nbformat": 4,
  "nbformat_minor": 0,
  "metadata": {
    "colab": {
      "provenance": [],
      "authorship_tag": "ABX9TyPceZH8TLsjheHlRLoC52Pc",
      "include_colab_link": true
    },
    "kernelspec": {
      "name": "python3",
      "display_name": "Python 3"
    },
    "language_info": {
      "name": "python"
    }
  },
  "cells": [
    {
      "cell_type": "markdown",
      "metadata": {
        "id": "view-in-github",
        "colab_type": "text"
      },
      "source": [
        "<a href=\"https://colab.research.google.com/github/EmanuelCAC/data_science_ads/blob/main/Limpeza.ipynb\" target=\"_parent\"><img src=\"https://colab.research.google.com/assets/colab-badge.svg\" alt=\"Open In Colab\"/></a>"
      ]
    },
    {
      "cell_type": "code",
      "execution_count": 1,
      "metadata": {
        "colab": {
          "base_uri": "https://localhost:8080/"
        },
        "id": "9fu_zStGTgcw",
        "outputId": "0413cecd-82b0-4211-8d78-4778423ee021"
      },
      "outputs": [
        {
          "output_type": "stream",
          "name": "stdout",
          "text": [
            "Mounted at /content/drive\n"
          ]
        }
      ],
      "source": [
        "import pandas as pd\n",
        "from google.colab import drive\n",
        "drive.mount('/content/drive')\n",
        "flags = pd.read_csv('/content/drive/MyDrive/Faculdade/6Semestre/CienciadeDados/MaterialApoio/flags.csv')"
      ]
    },
    {
      "cell_type": "code",
      "source": [
        "# Seleção\n",
        "\n",
        "# Selecione apenas as linhas do países da Oceania\n",
        "v = (flags['landmass'] == 6)\n",
        "flags_oceania = flags[v]\n",
        "\n",
        "print(flags_oceania)"
      ],
      "metadata": {
        "colab": {
          "base_uri": "https://localhost:8080/"
        },
        "id": "35rc00lsT7kk",
        "outputId": "92f125f3-1fad-449c-e317-7345a42cc9fa"
      },
      "execution_count": 2,
      "outputs": [
        {
          "output_type": "stream",
          "name": "stdout",
          "text": [
            "                 name  landmass  zone  area  population  language  religion  \\\n",
            "3      American-Samoa         6     3     0           0         1         1   \n",
            "10          Australia         6     2  7690          15         1         1   \n",
            "41       Cook-Islands         6     3     0           0         1         1   \n",
            "57               Fiji         6     2    18           1         1         1   \n",
            "61   French-Polynesia         6     3     4           0         3         0   \n",
            "71               Guam         6     1     0           0         1         1   \n",
            "82          Indonesia         6     2  1904         157        10         2   \n",
            "94           Kiribati         6     1     0           0         1         1   \n",
            "109          Marianas         6     1     0           0        10         1   \n",
            "113        Micronesia         6     1     1           0        10         1   \n",
            "119             Nauru         6     2     0           0        10         1   \n",
            "123       New-Zealand         6     2   268           2         1         1   \n",
            "127              Niue         6     3     0           0         1         1   \n",
            "134  Papua-New-Guinea         6     2   463           3         1         5   \n",
            "137       Philippines         6     1   300          48        10         0   \n",
            "151   Soloman-Islands         6     2    30           0         1         1   \n",
            "172             Tonga         6     2     1           0        10         1   \n",
            "177            Tuvalu         6     2     0           0         1         1   \n",
            "185           Vanuatu         6     2    15           0         6         1   \n",
            "189     Western-Samoa         6     3     3           0         1         1   \n",
            "\n",
            "     bars  stripes  colours  ...  saltires  quarters  sunstars  crescent  \\\n",
            "3       0        0        5  ...         0         0         0         0   \n",
            "10      0        0        3  ...         1         1         6         0   \n",
            "41      0        0        4  ...         1         1        15         0   \n",
            "57      0        0        7  ...         1         1         0         0   \n",
            "61      0        3        5  ...         0         0         1         0   \n",
            "71      0        0        7  ...         0         0         0         0   \n",
            "82      0        2        2  ...         0         0         0         0   \n",
            "94      0        0        4  ...         0         0         1         0   \n",
            "109     0        0        3  ...         0         0         1         0   \n",
            "113     0        0        2  ...         0         0         4         0   \n",
            "119     0        3        3  ...         0         0         1         0   \n",
            "123     0        0        3  ...         1         1         4         0   \n",
            "127     0        0        4  ...         1         1         5         0   \n",
            "134     0        0        4  ...         0         0         5         0   \n",
            "137     0        0        4  ...         0         0         4         0   \n",
            "151     0        0        4  ...         0         0         5         0   \n",
            "172     0        0        2  ...         0         1         0         0   \n",
            "177     0        0        5  ...         1         1         9         0   \n",
            "185     0        0        4  ...         0         0         0         0   \n",
            "189     0        0        3  ...         0         1         5         0   \n",
            "\n",
            "     triangle  icon  animate text  topleft  botright  \n",
            "3           1     1        1    0     blue       red  \n",
            "10          0     0        0    0    white      blue  \n",
            "41          0     0        0    0    white      blue  \n",
            "57          0     1        1    0    white      blue  \n",
            "61          0     1        0    0      red       red  \n",
            "71          0     1        1    1      red       red  \n",
            "82          0     0        0    0      red     white  \n",
            "94          0     1        1    0      red      blue  \n",
            "109         0     1        0    0     blue      blue  \n",
            "113         0     0        0    0     blue      blue  \n",
            "119         0     0        0    0     blue      blue  \n",
            "123         0     0        0    0    white      blue  \n",
            "127         0     0        0    0    white      gold  \n",
            "134         1     0        1    0      red     black  \n",
            "137         1     0        0    0     blue       red  \n",
            "151         1     0        0    0     blue     green  \n",
            "172         0     0        0    0    white       red  \n",
            "177         0     0        0    0    white      blue  \n",
            "185         1     0        1    0    black     green  \n",
            "189         0     0        0    0     blue       red  \n",
            "\n",
            "[20 rows x 30 columns]\n"
          ]
        }
      ]
    },
    {
      "cell_type": "code",
      "source": [
        "# Projeção\n",
        "\n",
        "# Selecione apenas as linhas dos países da Oceania com área acima de 200 mil Km2\n",
        "v = (flags['landmass'] == 6) & (flags['area'] > 200)\n",
        "df = flags[v]\n",
        "\n",
        "# Projeta apenas as colunas \"name\", \"colours\", \"language\", \"landmass\", e \"area\"\n",
        "df = df[['name', 'colours', 'language', 'landmass', 'area']]\n",
        "print(df)"
      ],
      "metadata": {
        "colab": {
          "base_uri": "https://localhost:8080/"
        },
        "id": "Jokt5IOuUj5P",
        "outputId": "ff1ee268-2a2c-4923-cab8-cc646075948e"
      },
      "execution_count": 6,
      "outputs": [
        {
          "output_type": "stream",
          "name": "stdout",
          "text": [
            "                 name  colours  language  landmass  area\n",
            "10          Australia        3         1         6  7690\n",
            "82          Indonesia        2        10         6  1904\n",
            "123       New-Zealand        3         1         6   268\n",
            "134  Papua-New-Guinea        4         1         6   463\n",
            "137       Philippines        4        10         6   300\n"
          ]
        }
      ]
    },
    {
      "cell_type": "code",
      "source": [
        "# Método 'reset_index()'\n",
        "\n",
        "# Selecione apenas as linhas dos países da Oceania com área acima de 200 mil Km2\n",
        "v = (flags['landmass'] == 6) & (flags['area'] > 200)\n",
        "df = flags[v]\n",
        "\n",
        "# Projeta apenas as colunas \"name\", \"colours\", \"language\", \"landmass\", e \"area\"\n",
        "df = df[['name', 'colours', 'language', 'landmass', 'area']]\n",
        "\n",
        "# Reseta o indice\n",
        "df = df.reset_index(drop=True)\n",
        "print(df)"
      ],
      "metadata": {
        "colab": {
          "base_uri": "https://localhost:8080/"
        },
        "id": "vxVat2HBVm1-",
        "outputId": "de701f11-2679-4fc8-a6db-4405f6a4bde5"
      },
      "execution_count": 7,
      "outputs": [
        {
          "output_type": "stream",
          "name": "stdout",
          "text": [
            "               name  colours  language  landmass  area\n",
            "0         Australia        3         1         6  7690\n",
            "1         Indonesia        2        10         6  1904\n",
            "2       New-Zealand        3         1         6   268\n",
            "3  Papua-New-Guinea        4         1         6   463\n",
            "4       Philippines        4        10         6   300\n"
          ]
        }
      ]
    }
  ]
}