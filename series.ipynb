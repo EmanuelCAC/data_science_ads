{
  "nbformat": 4,
  "nbformat_minor": 0,
  "metadata": {
    "colab": {
      "provenance": [],
      "generative_ai_disabled": true,
      "authorship_tag": "ABX9TyMq/iicdG5VHcH5drhZFWmd",
      "include_colab_link": true
    },
    "kernelspec": {
      "name": "python3",
      "display_name": "Python 3"
    },
    "language_info": {
      "name": "python"
    }
  },
  "cells": [
    {
      "cell_type": "markdown",
      "metadata": {
        "id": "view-in-github",
        "colab_type": "text"
      },
      "source": [
        "<a href=\"https://colab.research.google.com/github/EmanuelCAC/data_science_ads/blob/main/series.ipynb\" target=\"_parent\"><img src=\"https://colab.research.google.com/assets/colab-badge.svg\" alt=\"Open In Colab\"/></a>"
      ]
    },
    {
      "cell_type": "code",
      "execution_count": null,
      "metadata": {
        "id": "gDPgfApnctS2"
      },
      "outputs": [],
      "source": [
        "import pandas as pd"
      ]
    },
    {
      "cell_type": "code",
      "source": [
        "# Criar a Series notas\n",
        "grades = pd.Series([7.6, 5.8, 8.5, 9.5, 6.4])\n",
        "\n",
        "# Criar a Series alunos\n",
        "lst_registration = ['M02', 'M05', 'M13', 'M14', 'M19']\n",
        "lst_names = ['Bob', 'Dayse', 'Bill', 'Cris', 'Jimi']\n",
        "students = pd.Series(lst_names, index=lst_registration)\n",
        "\n",
        "print(grades)\n",
        "print('------------------------')\n",
        "print(students)"
      ],
      "metadata": {
        "colab": {
          "base_uri": "https://localhost:8080/"
        },
        "id": "4dZqZulFeFaO",
        "outputId": "dabb79a1-be8d-42e5-8ade-5296bb776649"
      },
      "execution_count": null,
      "outputs": [
        {
          "output_type": "stream",
          "name": "stdout",
          "text": [
            "0    7.6\n",
            "1    5.8\n",
            "2    8.5\n",
            "3    9.5\n",
            "4    6.4\n",
            "dtype: float64\n",
            "------------------------\n",
            "M02      Bob\n",
            "M05    Dayse\n",
            "M13     Bill\n",
            "M14     Cris\n",
            "M19     Jimi\n",
            "dtype: object\n"
          ]
        }
      ]
    },
    {
      "cell_type": "code",
      "source": [
        "# Criação de Series - Dicionario\n",
        "dic_students = {'M02':'Bob', 'M05':'Dayse', 'M13':'Bill', 'M14':'Cris', 'M19':'Jimi'}\n",
        "students2 = pd.Series(dic_students)\n",
        "print(students2)"
      ],
      "metadata": {
        "colab": {
          "base_uri": "https://localhost:8080/"
        },
        "id": "zyal5RpzgV4Y",
        "outputId": "a81b50ae-77ce-46f1-ff52-fd1e2f0d9500"
      },
      "execution_count": null,
      "outputs": [
        {
          "output_type": "stream",
          "name": "stdout",
          "text": [
            "M02      Bob\n",
            "M05    Dayse\n",
            "M13     Bill\n",
            "M14     Cris\n",
            "M19     Jimi\n",
            "dtype: object\n"
          ]
        }
      ]
    },
    {
      "cell_type": "code",
      "source": [
        "# Propriedades básicas das Series\n",
        "students = pd.Series({'M02':'Bob', 'M05':'Dayse', 'M13':'Bill', 'M14':'Cris', 'M19':'Jimi'})\n",
        "\n",
        "# Atribuição de nomes para os vetores de dados e rótulos (indices)\n",
        "students.name = \"alunos\"\n",
        "students.index.name = \"matricula\"\n",
        "\n",
        "print(students)\n",
        "\n",
        "size = students.size\n",
        "data = students.values\n",
        "labels = students.index\n",
        "students_type = type(students)\n",
        "students_dtype = students.dtype\n",
        "students_idx_dtype = students.index.dtype\n",
        "\n",
        "print('-----------------------------')\n",
        "print('número de elementos: ', size)\n",
        "print('vetor de dadps: ', data)\n",
        "print('vetor de rótulos: ', labels)\n",
        "print('tipo (type): ', students_type)\n",
        "print('dtype da Series: ', students_dtype)\n",
        "print('dtype do vetor de dados: ', students_idx_dtype)"
      ],
      "metadata": {
        "colab": {
          "base_uri": "https://localhost:8080/"
        },
        "id": "7nhi7b10hWb1",
        "outputId": "438c2032-94a6-4b4d-bbb1-e56561ab2326"
      },
      "execution_count": null,
      "outputs": [
        {
          "output_type": "stream",
          "name": "stdout",
          "text": [
            "matricula\n",
            "M02      Bob\n",
            "M05    Dayse\n",
            "M13     Bill\n",
            "M14     Cris\n",
            "M19     Jimi\n",
            "Name: alunos, dtype: object\n",
            "---------------------------\n",
            "número de elementos:  5\n",
            "vetor de dadps:  ['Bob' 'Dayse' 'Bill' 'Cris' 'Jimi']\n",
            "vetor de rótulos:  Index(['M02', 'M05', 'M13', 'M14', 'M19'], dtype='object', name='matricula')\n",
            "tipo (type):  <class 'pandas.core.series.Series'>\n",
            "dtype da Series:  object\n",
            "dtype do vetor de dados:  object\n"
          ]
        }
      ]
    },
    {
      "cell_type": "code",
      "source": [
        "# obém os indices de alunos aprovados\n",
        "idx_approved = grades[grades >= 7].index\n",
        "\n",
        "# imprimi os alunos aprovados\n",
        "print('Relação de alunos aprovados')\n",
        "print('---------------------------')\n",
        "# print(students[idx_approved])\n",
        "print(students.iloc[idx_approved])"
      ],
      "metadata": {
        "colab": {
          "base_uri": "https://localhost:8080/"
        },
        "id": "ZkfMug_OlfbI",
        "outputId": "103fba4f-d732-4609-c764-1836d6ae87ab"
      },
      "execution_count": null,
      "outputs": [
        {
          "output_type": "stream",
          "name": "stdout",
          "text": [
            "Relação de alunos aprovados\n",
            "---------------------------\n",
            "matricula\n",
            "M02     Bob\n",
            "M13    Bill\n",
            "M14    Cris\n",
            "Name: alunos, dtype: object\n"
          ]
        }
      ]
    },
    {
      "cell_type": "code",
      "source": [
        "# Buscas em Series\n",
        "\n",
        "has_M13 = 'M13' in students\n",
        "has_M99 = 'M99' in students\n",
        "\n",
        "print('Exite o rótulo \"M13\"? -> ', has_M13)\n",
        "print('Exite o rótulo \"M99\"? -> ', has_M99)\n",
        "\n",
        "# teste se valores faz parte da Series\n",
        "has_Bob = students.isin(['Bob'])\n",
        "print('Existe o valor \"Bob\"? -> ', has_Bob)\n",
        "\n",
        "has_Cris = students.isin(['Cris'])\n",
        "print('Existe o valor \"Cris\"? -> ', has_Cris)"
      ],
      "metadata": {
        "colab": {
          "base_uri": "https://localhost:8080/"
        },
        "id": "w73MQ_ygmN6W",
        "outputId": "8f58a6bf-231b-4bd4-f193-b65dbccda4bb"
      },
      "execution_count": null,
      "outputs": [
        {
          "output_type": "stream",
          "name": "stdout",
          "text": [
            "Exite o rótulo \"M13\"? ->  True\n",
            "Exite o rótulo \"M99\"? ->  False\n",
            "Existe o valor \"Bob\"? ->  matricula\n",
            "M02     True\n",
            "M05    False\n",
            "M13    False\n",
            "M14    False\n",
            "M19    False\n",
            "Name: alunos, dtype: bool\n",
            "Existe o valor \"Cris\"? ->  matricula\n",
            "M02    False\n",
            "M05    False\n",
            "M13    False\n",
            "M14     True\n",
            "M19    False\n",
            "Name: alunos, dtype: bool\n"
          ]
        }
      ]
    },
    {
      "cell_type": "code",
      "source": [
        "# Inserindo, Alterando e Removendo elementos de Series\n",
        "\n",
        "print('Series original')\n",
        "print(students)\n",
        "\n",
        "# insere o aluno de matricula M55, Rakesh\n",
        "students['M55'] = 'Rakesh'\n",
        "print(students)\n",
        "\n",
        "\n",
        "# Alterar os nomes Bill, Cris e Jimi para Billy, Cristy e Jimy\n",
        "students['M13'] = 'Billy'\n",
        "students[['M14', 'M19']] = ['Cristy', 'Jimy']\n",
        "\n",
        "print(students)\n",
        "\n",
        "# remove o aluno de matricula M02 (Bob)\n",
        "students = students.drop('M02')\n",
        "\n",
        "print(students)"
      ],
      "metadata": {
        "id": "GCIbErOnmxGD",
        "colab": {
          "base_uri": "https://localhost:8080/"
        },
        "outputId": "e02c72c9-a7a3-407a-d2f8-5e476e3e44d3"
      },
      "execution_count": 20,
      "outputs": [
        {
          "output_type": "stream",
          "name": "stdout",
          "text": [
            "Series original\n",
            "matricula\n",
            "M02       Bob\n",
            "M05     Dayse\n",
            "M13     Billy\n",
            "M14    Cristy\n",
            "M19      Jimy\n",
            "M55    Rakesh\n",
            "Name: alunos, dtype: object\n",
            "matricula\n",
            "M02       Bob\n",
            "M05     Dayse\n",
            "M13     Billy\n",
            "M14    Cristy\n",
            "M19      Jimy\n",
            "M55    Rakesh\n",
            "Name: alunos, dtype: object\n",
            "matricula\n",
            "M02       Bob\n",
            "M05     Dayse\n",
            "M13     Billy\n",
            "M14    Cristy\n",
            "M19      Jimy\n",
            "M55    Rakesh\n",
            "Name: alunos, dtype: object\n",
            "matricula\n",
            "M05     Dayse\n",
            "M13     Billy\n",
            "M14    Cristy\n",
            "M19      Jimy\n",
            "M55    Rakesh\n",
            "Name: alunos, dtype: object\n"
          ]
        }
      ]
    },
    {
      "cell_type": "code",
      "source": [
        "# Mudando o indice da Series\n",
        "students = pd.Series({'M02':'Bob', 'M05':'Dayse', 'M13':'Bill', 'M14':'Cris', 'M19':'Jimi'})\n",
        "print(students)\n",
        "\n",
        "students.index = ['M91', 'M92', 'M93', 'M94', 'M95']\n",
        "print(students)"
      ],
      "metadata": {
        "colab": {
          "base_uri": "https://localhost:8080/"
        },
        "id": "vMUdOahZrlq4",
        "outputId": "6e6ccbf1-9d3b-4079-a455-9e633c4e3fe2"
      },
      "execution_count": 21,
      "outputs": [
        {
          "output_type": "stream",
          "name": "stdout",
          "text": [
            "M02      Bob\n",
            "M05    Dayse\n",
            "M13     Bill\n",
            "M14     Cris\n",
            "M19     Jimi\n",
            "dtype: object\n",
            "M91      Bob\n",
            "M92    Dayse\n",
            "M93     Bill\n",
            "M94     Cris\n",
            "M95     Jimi\n",
            "dtype: object\n"
          ]
        }
      ]
    },
    {
      "cell_type": "code",
      "source": [
        "# Iteração\n",
        "for student in students: print(student)\n",
        "\n",
        "for position in students.index: print(position)"
      ],
      "metadata": {
        "colab": {
          "base_uri": "https://localhost:8080/"
        },
        "id": "3WIMAtYLsFqY",
        "outputId": "334ab4c0-30a5-47d0-e695-e8b3fd1f84c1"
      },
      "execution_count": 23,
      "outputs": [
        {
          "output_type": "stream",
          "name": "stdout",
          "text": [
            "Bob\n",
            "Dayse\n",
            "Bill\n",
            "Cris\n",
            "Jimi\n",
            "M91\n",
            "M92\n",
            "M93\n",
            "M94\n",
            "M95\n"
          ]
        }
      ]
    },
    {
      "cell_type": "code",
      "source": [
        "# Operações aritméticas com computação vetorizada\n",
        "import pandas as pd\n",
        "import numpy as np\n",
        "\n",
        "# Criar Series s1 e s2\n",
        "s1 = pd.Series([2,4,6])\n",
        "s2 = pd.Series([1,3,5])\n",
        "\n",
        "print('s1: ')\n",
        "print(s1)\n",
        "print('s2: ')\n",
        "print(s2)\n",
        "\n",
        "print('s1 * 2: ')\n",
        "print(s1 * 2)\n",
        "\n",
        "print('s1 * s2: ')\n",
        "print(s1 * s2)\n",
        "\n",
        "print('Raiz quadrada dos elementos de s1: ')\n",
        "print(np.sqrt(s1))"
      ],
      "metadata": {
        "colab": {
          "base_uri": "https://localhost:8080/"
        },
        "id": "TUugj6TytDkz",
        "outputId": "39c14f34-35a3-4368-9870-5b6ec48951cb"
      },
      "execution_count": 28,
      "outputs": [
        {
          "output_type": "stream",
          "name": "stdout",
          "text": [
            "s1: \n",
            "0    2\n",
            "1    4\n",
            "2    6\n",
            "dtype: int64\n",
            "s2: \n",
            "0    1\n",
            "1    3\n",
            "2    5\n",
            "dtype: int64\n",
            "s1 * 2: \n",
            "0     4\n",
            "1     8\n",
            "2    12\n",
            "dtype: int64\n",
            "s1 * s2: \n",
            "0     2\n",
            "1    12\n",
            "2    30\n",
            "dtype: int64\n",
            "Raiz quadrada dos elementos de s1: \n",
            "0    1.414214\n",
            "1    2.000000\n",
            "2    2.449490\n",
            "dtype: float64\n"
          ]
        }
      ]
    },
    {
      "cell_type": "code",
      "source": [
        "# valor NaN\n",
        "\n",
        "green = pd.Series({'BR':1,'FR':0,'IT':1,'UK':0})\n",
        "blue = pd.Series({'AR':1,'BR':1,'FR':1,'IT':0,'UK':1})\n",
        "total = green + blue\n",
        "print(\"Soma\")\n",
        "print(total)\n",
        "print('------------------------')\n",
        "print(\"isnull(total)\")\n",
        "print(pd.isnull(total))"
      ],
      "metadata": {
        "colab": {
          "base_uri": "https://localhost:8080/"
        },
        "id": "I6ev6L1W2qO0",
        "outputId": "a6585247-6747-40ed-879d-e47ce8ded110"
      },
      "execution_count": 31,
      "outputs": [
        {
          "output_type": "stream",
          "name": "stdout",
          "text": [
            "Soma\n",
            "AR    NaN\n",
            "BR    2.0\n",
            "FR    1.0\n",
            "IT    1.0\n",
            "UK    1.0\n",
            "dtype: float64\n",
            "------------------------\n",
            "isnull(total)\n",
            "AR     True\n",
            "BR    False\n",
            "FR    False\n",
            "IT    False\n",
            "UK    False\n",
            "dtype: bool\n"
          ]
        }
      ]
    },
    {
      "cell_type": "code",
      "source": [
        "# Indices datetime\n",
        "\n",
        "# (1) - criar um serie temporal\n",
        "days = ['10/02/2019', '11/02/2019', '12/02/2019', '13/02/2019', '14/02/2019', '15/02/2019']\n",
        "temp_max = [31,35,35,28,27,27]\n",
        "serie_temporal = pd.Series(temp_max, index=days)\n",
        "\n",
        "# (2) - converte o tipo do indice para datetime e imprime a serie\n",
        "serie_temporal.index = pd.to_datetime(serie_temporal.index, format='%d/%m/%Y')\n",
        "print(serie_temporal)"
      ],
      "metadata": {
        "colab": {
          "base_uri": "https://localhost:8080/"
        },
        "id": "n6BXmJKf4Z0O",
        "outputId": "447d354c-8439-4182-bbe9-80e41166103b"
      },
      "execution_count": 39,
      "outputs": [
        {
          "output_type": "stream",
          "name": "stdout",
          "text": [
            "2019-02-10    31\n",
            "2019-02-11    35\n",
            "2019-02-12    35\n",
            "2019-02-13    28\n",
            "2019-02-14    27\n",
            "2019-02-15    27\n",
            "dtype: int64\n"
          ]
        }
      ]
    },
    {
      "cell_type": "code",
      "source": [
        "# Indexação hierarquica\n",
        "money = ['Peso', 'Real', 'Euro', 'Euro', 'Libra']\n",
        "countries =[['América', 'América', 'Europa', 'Europa', 'Europa'],\n",
        "            ['AR', 'BR', 'FR', 'IT', 'UK']]\n",
        "lst_countries = pd.Series(money, index=countries)\n",
        "print(lst_countries)\n",
        "print('------------------------')\n",
        "print(lst_countries['América'])\n",
        "print('------------------------')\n",
        "print(lst_countries[:, 'IT'])\n",
        "print('------------------------')\n",
        "print(lst_countries['Europa', 'IT'])"
      ],
      "metadata": {
        "colab": {
          "base_uri": "https://localhost:8080/"
        },
        "id": "uXa0Tl0N62ao",
        "outputId": "631785d6-16b2-43c7-b79e-6cfb401a444e"
      },
      "execution_count": 45,
      "outputs": [
        {
          "output_type": "stream",
          "name": "stdout",
          "text": [
            "América  AR     Peso\n",
            "         BR     Real\n",
            "Europa   FR     Euro\n",
            "         IT     Euro\n",
            "         UK    Libra\n",
            "dtype: object\n",
            "------------------------\n",
            "AR    Peso\n",
            "BR    Real\n",
            "dtype: object\n",
            "------------------------\n",
            "Europa    Euro\n",
            "dtype: object\n",
            "------------------------\n",
            "Euro\n"
          ]
        }
      ]
    },
    {
      "cell_type": "code",
      "source": [],
      "metadata": {
        "id": "oUc8ZB3R83Zn"
      },
      "execution_count": null,
      "outputs": []
    }
  ]
}