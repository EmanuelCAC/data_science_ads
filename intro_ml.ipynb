{
  "nbformat": 4,
  "nbformat_minor": 0,
  "metadata": {
    "colab": {
      "provenance": [],
      "authorship_tag": "ABX9TyPldds9dHcnpehNuErX+NVf",
      "include_colab_link": true
    },
    "kernelspec": {
      "name": "python3",
      "display_name": "Python 3"
    },
    "language_info": {
      "name": "python"
    }
  },
  "cells": [
    {
      "cell_type": "markdown",
      "metadata": {
        "id": "view-in-github",
        "colab_type": "text"
      },
      "source": [
        "<a href=\"https://colab.research.google.com/github/EmanuelCAC/data_science_ads/blob/main/intro_ml.ipynb\" target=\"_parent\"><img src=\"https://colab.research.google.com/assets/colab-badge.svg\" alt=\"Open In Colab\"/></a>"
      ]
    },
    {
      "cell_type": "markdown",
      "source": [
        "Projeto Prático\n",
        "\n",
        "\n",
        "*   Grupo 1 - categóricos binários: red, green, blue, gold, white, black, orange, crescent, triangle, icon, animate, text;\n",
        "*   Grupo 2 - categóriocs não binários: name, landmass, zone, language, religion, mainhue, topleft, botright;\n",
        "*   Grupo 3 - número contínnuos: area, population;\n",
        "*   Grupo 4 - números discretos: bars, stripes, colours, crosses, saltires, quarters, sunstars;\n",
        "\n",
        "\n",
        "Objetivos\n",
        "\n",
        "\n",
        "*   1 - Normalizar todos os atributos neméricos para a faixa comum: [0.0, 1.0];\n",
        "*   2 - Converter todos os atributos categóricos com k > 2 categorias para k atributos binários;\n",
        "*   3 - Remover os atributos que não tomarão parte no processo de classificação (por exemplo: remover o atributo original language após o mesmo ter sido transformado em 10 atributos binários);\n",
        "\n",
        "\n"
      ],
      "metadata": {
        "id": "NFhjUcrPxAJg"
      }
    },
    {
      "cell_type": "code",
      "execution_count": 11,
      "metadata": {
        "colab": {
          "base_uri": "https://localhost:8080/"
        },
        "id": "LxG4idkPw8sM",
        "outputId": "bef7813b-6aa1-4e8e-d151-d2eb58f4fd4a"
      },
      "outputs": [
        {
          "output_type": "stream",
          "name": "stdout",
          "text": [
            "Drive already mounted at /content/drive; to attempt to forcibly remount, call drive.mount(\"/content/drive\", force_remount=True).\n"
          ]
        }
      ],
      "source": [
        "import pandas as pd\n",
        "from google.colab import drive\n",
        "drive.mount('/content/drive')\n",
        "flags = pd.read_csv('/content/drive/MyDrive/Faculdade/6Semestre/CienciadeDados/MaterialApoio/flags.csv')"
      ]
    },
    {
      "cell_type": "code",
      "source": [
        "#-----------------------------------------------------\n",
        "# (1) - Conversão dos atributos do Grupo 2\n",
        "#       De: Categóricos não binários\n",
        "#       Para: Categóricos binários\n",
        "#-----------------------------------------------------\n",
        "\n",
        "for c in flags.columns:\n",
        "  if c in ['landmass', 'zone', 'language', 'religion', 'mainhue', 'topleft', 'botright']:\n",
        "    dummies = pd.get_dummies(flags[c], prefix=c)\n",
        "    flags = flags.join(dummies)\n"
      ],
      "metadata": {
        "id": "gYJuLWz9FiV-"
      },
      "execution_count": 12,
      "outputs": []
    },
    {
      "cell_type": "code",
      "source": [
        "#-----------------------------------------------------\n",
        "# (2) - Normalização dos atribuos dos Grupo 3 e 4\n",
        "#       De: Números contínuos e discretos\n",
        "#       Para: Números com valore na faixa entre 0 e 1\n",
        "#-----------------------------------------------------\n",
        "\n",
        "for c in flags.columns:\n",
        "  if c in ['area', 'population', 'bars', 'stripes', 'colours', 'circles', 'crosses', 'saltires', 'quarters', 'sunstars']:\n",
        "    c_max = max(flags[c])\n",
        "    c_min = min(flags[c])\n",
        "    flags[c] = (flags[c] - c_min) / (c_max - c_min)"
      ],
      "metadata": {
        "id": "Us96iUf6Lgxp"
      },
      "execution_count": 13,
      "outputs": []
    },
    {
      "cell_type": "code",
      "source": [
        "#-----------------------------------------------------\n",
        "# (3) - Exclusão dos atributos indesejados\n",
        "#-----------------------------------------------------\n",
        "\n",
        "flags = flags.drop(columns=['name', 'landmass', 'zone', 'language', 'religion', 'mainhue', 'topleft', 'botright'])"
      ],
      "metadata": {
        "id": "MOFK9Xu_N254"
      },
      "execution_count": 14,
      "outputs": []
    },
    {
      "cell_type": "code",
      "source": [
        "#-----------------------------------------------------\n",
        "# (4) - Imprimir a configuração final de flags\n",
        "#-----------------------------------------------------\n",
        "print(\"heads(): \")\n",
        "print(flags.head())\n",
        "print()\n",
        "\n",
        "print(\"tails(): \")\n",
        "print(flags.tail())\n",
        "print()"
      ],
      "metadata": {
        "colab": {
          "base_uri": "https://localhost:8080/"
        },
        "id": "inDNcYGLKyfy",
        "outputId": "080a3fa9-6bf1-4bd2-9952-ec1937c20570"
      },
      "execution_count": 15,
      "outputs": [
        {
          "output_type": "stream",
          "name": "stdout",
          "text": [
            "heads(): \n",
            "       area  population  bars   stripes   colours  red  green  blue  gold  \\\n",
            "0  0.028926    0.015873   0.0  0.214286  0.571429    1      1     0     1   \n",
            "1  0.001295    0.002976   0.0  0.000000  0.285714    1      0     0     1   \n",
            "2  0.106598    0.019841   0.4  0.000000  0.285714    1      1     0     0   \n",
            "3  0.000000    0.000000   0.0  0.000000  0.571429    1      0     1     1   \n",
            "4  0.000000    0.000000   0.6  0.000000  0.285714    1      0     1     1   \n",
            "\n",
            "   white  ...  topleft_red  topleft_white  botright_black  botright_blue  \\\n",
            "0      1  ...        False          False           False          False   \n",
            "1      0  ...         True          False           False          False   \n",
            "2      1  ...        False          False           False          False   \n",
            "3      1  ...        False          False           False          False   \n",
            "4      0  ...        False          False           False          False   \n",
            "\n",
            "   botright_brown  botright_gold  botright_green  botright_orange  \\\n",
            "0           False          False            True            False   \n",
            "1           False          False           False            False   \n",
            "2           False          False           False            False   \n",
            "3           False          False           False            False   \n",
            "4           False          False           False            False   \n",
            "\n",
            "   botright_red  botright_white  \n",
            "0         False           False  \n",
            "1          True           False  \n",
            "2         False            True  \n",
            "3          True           False  \n",
            "4          True           False  \n",
            "\n",
            "[5 rows x 73 columns]\n",
            "\n",
            "tails(): \n",
            "         area  population  bars   stripes   colours  red  green  blue  gold  \\\n",
            "189  0.000134    0.000000   0.0  0.000000  0.285714    1      0     1     0   \n",
            "190  0.011428    0.021825   0.0  0.214286  0.428571    1      0     1     1   \n",
            "191  0.040398    0.027778   0.0  0.000000  0.428571    1      1     0     1   \n",
            "192  0.033613    0.005952   0.6  0.000000  0.428571    1      1     0     0   \n",
            "193  0.017454    0.007937   0.0  0.500000  0.571429    1      1     0     1   \n",
            "\n",
            "     white  ...  topleft_red  topleft_white  botright_black  botright_blue  \\\n",
            "189      1  ...        False          False           False          False   \n",
            "190      1  ...        False          False           False          False   \n",
            "191      0  ...        False          False           False          False   \n",
            "192      0  ...        False          False           False          False   \n",
            "193      1  ...        False          False           False          False   \n",
            "\n",
            "     botright_brown  botright_gold  botright_green  botright_orange  \\\n",
            "189           False          False           False            False   \n",
            "190           False          False           False            False   \n",
            "191           False          False            True            False   \n",
            "192            True          False           False            False   \n",
            "193           False          False            True            False   \n",
            "\n",
            "     botright_red  botright_white  \n",
            "189          True           False  \n",
            "190          True           False  \n",
            "191         False           False  \n",
            "192         False           False  \n",
            "193         False           False  \n",
            "\n",
            "[5 rows x 73 columns]\n",
            "\n"
          ]
        }
      ]
    },
    {
      "cell_type": "code",
      "source": [
        "flags.to_csv('/content/drive/MyDrive/Faculdade/6Semestre/CienciadeDados/MaterialApoio/flags_transformado.csv', index=False)"
      ],
      "metadata": {
        "id": "9ZDD5SNOO81t"
      },
      "execution_count": 16,
      "outputs": []
    }
  ]
}